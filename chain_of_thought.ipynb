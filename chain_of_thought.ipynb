{
  "nbformat": 4,
  "nbformat_minor": 0,
  "metadata": {
    "colab": {
      "provenance": [],
      "authorship_tag": "ABX9TyMQCa0/zBx8ZLe79dFDo8K0",
      "include_colab_link": true
    },
    "kernelspec": {
      "name": "python3",
      "display_name": "Python 3"
    },
    "language_info": {
      "name": "python"
    }
  },
  "cells": [
    {
      "cell_type": "markdown",
      "metadata": {
        "id": "view-in-github",
        "colab_type": "text"
      },
      "source": [
        "<a href=\"https://colab.research.google.com/github/watabee/colab_samples/blob/main/chain_of_thought.ipynb\" target=\"_parent\"><img src=\"https://colab.research.google.com/assets/colab-badge.svg\" alt=\"Open In Colab\"/></a>"
      ]
    },
    {
      "cell_type": "code",
      "execution_count": null,
      "metadata": {
        "id": "aCDe2FwrFOgM"
      },
      "outputs": [],
      "source": [
        "!pip install openai==1.31.1"
      ]
    },
    {
      "cell_type": "code",
      "source": [
        "from openai import OpenAI\n",
        "from google.colab import userdata\n",
        "\n",
        "api_key = userdata.get(\"OPENAI_API_KEY\")\n",
        "client = OpenAI(api_key=api_key)"
      ],
      "metadata": {
        "id": "QRuo3I6rFcF8"
      },
      "execution_count": 2,
      "outputs": []
    },
    {
      "cell_type": "code",
      "source": [
        "PROMPT = \"\"\"\n",
        "以下の計算をしてください\n",
        "\n",
        "24123444 + 1012441240 - 12412444\n",
        "\"\"\"\n",
        "\n",
        "completion = client.chat.completions.create(\n",
        "    model=\"gpt-3.5-turbo-0125\",\n",
        "    messages=[\n",
        "        {\"role\": \"user\", \"content\": PROMPT}\n",
        "    ]\n",
        ")\n",
        "\n",
        "print(completion.choices[0].message.content)"
      ],
      "metadata": {
        "colab": {
          "base_uri": "https://localhost:8080/"
        },
        "id": "IFYnpD2eIJkI",
        "outputId": "495754ec-4c12-4bad-bc54-56b16077b08d"
      },
      "execution_count": 4,
      "outputs": [
        {
          "output_type": "stream",
          "name": "stdout",
          "text": [
            "結果は 1020201240 です。\n"
          ]
        }
      ]
    },
    {
      "cell_type": "code",
      "source": [
        "PROMPT = \"\"\"\n",
        "以下の計算をStep by Stepでしてください\n",
        "\n",
        "24123444 + 1012441240 - 12412444\n",
        "\"\"\"\n",
        "\n",
        "completion = client.chat.completions.create(\n",
        "    model=\"gpt-3.5-turbo-0125\",\n",
        "    messages=[\n",
        "        {\"role\": \"user\", \"content\": PROMPT}\n",
        "    ]\n",
        ")\n",
        "\n",
        "print(completion.choices[0].message.content)"
      ],
      "metadata": {
        "id": "AaPnjUK_FxLS",
        "colab": {
          "base_uri": "https://localhost:8080/"
        },
        "outputId": "1dd328bc-bafb-4f26-f9b6-06fa2d209065"
      },
      "execution_count": 5,
      "outputs": [
        {
          "output_type": "stream",
          "name": "stdout",
          "text": [
            "Step 1: 24123444 + 1012441240 = 1036564684\n",
            "Step 2: 1036564684 - 12412444 = 1024152240\n",
            "\n",
            "最終的な答えは1024152240です。\n"
          ]
        }
      ]
    }
  ]
}