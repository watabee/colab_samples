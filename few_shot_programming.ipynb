{
  "nbformat": 4,
  "nbformat_minor": 0,
  "metadata": {
    "colab": {
      "provenance": [],
      "authorship_tag": "ABX9TyN3I7Nd87d0jcSQpGuj7Hrh",
      "include_colab_link": true
    },
    "kernelspec": {
      "name": "python3",
      "display_name": "Python 3"
    },
    "language_info": {
      "name": "python"
    }
  },
  "cells": [
    {
      "cell_type": "markdown",
      "metadata": {
        "id": "view-in-github",
        "colab_type": "text"
      },
      "source": [
        "<a href=\"https://colab.research.google.com/github/watabee/colab_samples/blob/main/few_shot_programming.ipynb\" target=\"_parent\"><img src=\"https://colab.research.google.com/assets/colab-badge.svg\" alt=\"Open In Colab\"/></a>"
      ]
    },
    {
      "cell_type": "code",
      "execution_count": null,
      "metadata": {
        "id": "aCDe2FwrFOgM"
      },
      "outputs": [],
      "source": [
        "!pip install openai==1.31.1"
      ]
    },
    {
      "cell_type": "code",
      "source": [
        "from openai import OpenAI\n",
        "from google.colab import userdata\n",
        "\n",
        "api_key = userdata.get(\"OPENAI_API_KEY\")\n",
        "client = OpenAI(api_key=api_key)"
      ],
      "metadata": {
        "id": "QRuo3I6rFcF8"
      },
      "execution_count": 2,
      "outputs": []
    },
    {
      "cell_type": "code",
      "source": [
        "PROMPT = \"\"\"\n",
        "以下のTextから0か1かを判定してください。回答のみを答えてください。\n",
        "Text: これはすばらしい！\n",
        "Answer: 1\n",
        "Text: これは悪いことだ！\n",
        "Answer: 0\n",
        "Text: あの映画はすばらしかった！\n",
        "Answer: 1\n",
        "Text: なんてひどいショーなんだ！\n",
        "Answer:\n",
        "\"\"\"\n",
        "\n",
        "completion = client.chat.completions.create(\n",
        "    model=\"gpt-4o-mini\",\n",
        "    messages=[\n",
        "        {\"role\": \"user\", \"content\": PROMPT}\n",
        "    ]\n",
        ")\n",
        "\n",
        "print(completion.choices[0].message.content)"
      ],
      "metadata": {
        "id": "AaPnjUK_FxLS"
      },
      "execution_count": null,
      "outputs": []
    }
  ]
}